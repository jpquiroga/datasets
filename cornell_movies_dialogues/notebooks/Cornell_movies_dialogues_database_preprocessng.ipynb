{
 "cells": [
  {
   "cell_type": "markdown",
   "metadata": {},
   "source": [
    "# Cornell movies dialogues dataset"
   ]
  },
  {
   "cell_type": "code",
   "execution_count": 10,
   "metadata": {
    "_cell_guid": "b1076dfc-b9ad-4769-8c92-a6c4dae69d19",
    "_uuid": "8f2839f25d086af736a60e9eeb907d3b93b6e0e5"
   },
   "outputs": [
    {
     "name": "stdout",
     "output_type": "stream",
     "text": [
      "['movie_conversations.txt', 'raw_script_urls.txt', 'movie_lines.txt', 'README.txt', 'chameleons.pdf', 'movie_titles_metadata.txt', 'movie_characters_metadata.txt', '.DS_Store']\n"
     ]
    }
   ],
   "source": [
    "# This Python 3 environment comes with many helpful analytics libraries installed\n",
    "# It is defined by the kaggle/python docker image: https://github.com/kaggle/docker-python\n",
    "# For example, here's several helpful packages to load in \n",
    "\n",
    "import numpy as np # linear algebra\n",
    "import pandas as pd # data processing, CSV file I/O (e.g. pd.read_csv)\n",
    "\n",
    "# Input data files are available in the \"../input/\" directory.\n",
    "# For example, running this (by clicking run or pressing Shift+Enter) will list the files in the input directory\n",
    "\n",
    "import os\n",
    "DATA_DIR = \"../data/cornell_movie_dialogs_corpus\"\n",
    "print(os.listdir(DATA_DIR))\n",
    "\n",
    "# Any results you write to the current directory are saved as output."
   ]
  },
  {
   "cell_type": "code",
   "execution_count": 29,
   "metadata": {
    "collapsed": true
   },
   "outputs": [],
   "source": [
    "from tqdm import tqdm_notebook as tqdm\n",
    "import pandas as pd"
   ]
  },
  {
   "cell_type": "code",
   "execution_count": 30,
   "metadata": {},
   "outputs": [
    {
     "name": "stdout",
     "output_type": "stream",
     "text": [
      "Cornell Movie-Dialogs Corpus\r\n",
      "\r\n",
      "Distributed together with:\r\n",
      "\r\n",
      "\"Chameleons in imagined conversations: A new approach to understanding coordination of linguistic style in dialogs\"\r\n",
      "Cristian Danescu-Niculescu-Mizil and Lillian Lee\r\n",
      "Proceedings of the Workshop on Cognitive Modeling and Computational Linguistics, ACL 2011.\r",
      "\r\n",
      "\r\n",
      "(this paper is included in this zip file)\r\n",
      "\r\n",
      "NOTE: If you have results to report on these corpora, please send email to cristian@cs.cornell.edu or llee@cs.cornell.edu so we can add you to our list of people using this data.  Thanks!\r\n",
      "\r\n",
      "\r\n",
      "Contents of this README:\r\n",
      "\r\n",
      "\tA) Brief description\r\n",
      "\tB) Files description\r\n",
      "\tC) Details on the collection procedure\r\n",
      "\tD) Contact\r\n",
      "\r\n",
      "\r\n",
      "A) Brief description:\r\n",
      "\r\n",
      "This corpus contains a metadata-rich collection of fictional conversations extracted from raw movie scripts:\r\n",
      "\r\n",
      "- 220,579 conversational exchanges between 10,292 pairs of movie characters\r\n",
      "- involves 9,035 characters from 617 movies\r\n",
      "- in total 304,713 utterances\r\n",
      "- movie metadata included:\r\n",
      "\t- genres\r\n",
      "\t- release year\r\n",
      "\t- IMDB rating\r\n",
      "\t- number of IMDB votes\r\n",
      "\t- IMDB rating\r\n",
      "- character metadata included:\r\n",
      "\t- gender (for 3,774 characters)\r\n",
      "\t- position on movie credits (3,321 characters)\r\n",
      "\r\n",
      "\r\n",
      "B) Files description:\r\n",
      "\r\n",
      "In all files the field separator is \" +++$+++ \"\r\n",
      "\r\n",
      "- movie_titles_metadata.txt\r\n",
      "\t- contains information about each movie title\r\n",
      "\t- fields: \r\n",
      "\t\t- movieID, \r\n",
      "\t\t- movie title,\r\n",
      "\t\t- movie year, \r\n",
      "\t   \t- IMDB rating,\r\n",
      "\t\t- no. IMDB votes,\r\n",
      " \t\t- genres in the format ['genre1','genre2',�,'genreN']\r\n",
      "\r\n",
      "- movie_characters_metadata.txt\r\n",
      "\t- contains information about each movie character\r\n",
      "\t- fields:\r\n",
      "\t\t- characterID\r\n",
      "\t\t- character name\r\n",
      "\t\t- movieID\r\n",
      "\t\t- movie title\r\n",
      "\t\t- gender (\"?\" for unlabeled cases)\r\n",
      "\t\t- position in credits (\"?\" for unlabeled cases) \r\n",
      "\r\n",
      "- movie_lines.txt\r\n",
      "\t- contains the actual text of each utterance\r\n",
      "\t- fields:\r\n",
      "\t\t- lineID\r\n",
      "\t\t- characterID (who uttered this phrase)\r\n",
      "\t\t- movieID\r\n",
      "\t\t- character name\r\n",
      "\t\t- text of the utterance\r\n",
      "\r\n",
      "- movie_conversations.txt\r\n",
      "\t- the structure of the conversations\r\n",
      "\t- fields\r\n",
      "\t\t- characterID of the first character involved in the conversation\r\n",
      "\t\t- characterID of the second character involved in the conversation\r\n",
      "\t\t- movieID of the movie in which the conversation occurred\r\n",
      "\t\t- list of the utterances that make the conversation, in chronological \r\n",
      "\t\t\torder: ['lineID1','lineID2',�,'lineIDN']\r\n",
      "\t\t\thas to be matched with movie_lines.txt to reconstruct the actual content\r\n",
      "\r\n",
      "- raw_script_urls.txt\r\n",
      "\t- the urls from which the raw sources were retrieved\r\n",
      "\r\n",
      "C) Details on the collection procedure:\r\n",
      "\r\n",
      "We started from raw publicly available movie scripts (sources acknowledged in \r\n",
      "raw_script_urls.txt).  In order to collect the metadata necessary for this study \r\n",
      "and to distinguish between two script versions of the same movie, we automatically\r\n",
      " matched each script with an entry in movie database provided by IMDB (The Internet\r\n",
      " Movie Database; data interfaces available at http://www.imdb.com/interfaces). Some\r\n",
      " amount of manual correction was also involved. When  more than one movie with the same\r\n",
      " title was found in IMBD, the match was made with the most popular title \r\n",
      "(the one that received most IMDB votes)  \r\n",
      "\r\n",
      "After discarding all movies that could not be matched or that had less than 5 IMDB \r\n",
      "votes, we were left with 617 unique titles with metadata including genre, release \r\n",
      "year, IMDB rating and no. of IMDB votes and cast distribution.  We then identified \r\n",
      "the pairs of characters that interact and separated their conversations automatically \r\n",
      "using simple data processing heuristics. After discarding all pairs that exchanged \r\n",
      "less than 5 conversational exchanges there were 10,292 left, exchanging 220,579 \r\n",
      "conversational exchanges (304,713 utterances).  After automatically matching the names \r\n",
      "of the 9,035 involved characters to the list of cast distribution, we used the \r\n",
      "gender of each interpreting actor to infer the fictional gender of a subset of \r\n",
      "3,321 movie characters (we raised the number of gendered 3,774 characters through\r\n",
      " manual annotation). Similarly, we collected the end credit position of a subset \r\n",
      "of 3,321 characters as a proxy for their status.\r\n",
      "\r\n",
      "\r\n",
      "D) Contact:\r\n",
      "\r\n",
      "Please email any questions to: cristian@cs.cornell.edu (Cristian Danescu-Niculescu-Mizil)"
     ]
    }
   ],
   "source": [
    "!cat ../data/cornell_movie_dialogs_corpus/README.txt"
   ]
  },
  {
   "cell_type": "code",
   "execution_count": 31,
   "metadata": {},
   "outputs": [
    {
     "name": "stdout",
     "output_type": "stream",
     "text": [
      "head: no se puede abrir '../input/movie_lines.txt' para lectura: No existe el archivo o el directorio\r\n"
     ]
    }
   ],
   "source": [
    "!head -n 1000 ../input/movie_lines.txt"
   ]
  },
  {
   "cell_type": "markdown",
   "metadata": {},
   "source": [
    "__Parse dialogue lines into pandas data frame__"
   ]
  },
  {
   "cell_type": "code",
   "execution_count": 32,
   "metadata": {
    "collapsed": true
   },
   "outputs": [],
   "source": [
    "def split_line(s_line, delim):\n",
    "    res = []\n",
    "    _buff = s_line\n",
    "    while delim in _buff:\n",
    "        _index = _buff.index(delim)\n",
    "        res.append(_buff[:_index].strip())\n",
    "        _buff = _buff[_index+len(delim):].strip()\n",
    "    res.append(_buff)\n",
    "    return res\n",
    "\n",
    "# Test\n",
    "# split_line(\"L578 +++$+++ u2 +++$+++ m0 +++$+++ CAMERON +++$+++ I believe we share an art instructor\", \"+++$+++\")"
   ]
  },
  {
   "cell_type": "code",
   "execution_count": 33,
   "metadata": {
    "collapsed": true
   },
   "outputs": [],
   "source": [
    "def movie_lines_to_dataframe(file_path):\n",
    "    \"\"\"\n",
    "    - movie_lines.txt\n",
    "        - contains the actual text of each utterance\n",
    "        - fields:\n",
    "            - lineID\n",
    "            - characterID (who uttered this phrase)\n",
    "            - movieID\n",
    "            - character name\n",
    "            - text of the utterance\n",
    "    \"\"\"\n",
    "    DELIM = \"+++$+++\"\n",
    "    line_ids = []\n",
    "    character_ids = []\n",
    "    movie_ids = []\n",
    "    character_names = []\n",
    "    utterances = []    \n",
    "    with open(file_path, encoding=\"utf-8\", errors=\"ignore\") as f:\n",
    "        for l in tqdm(f.readlines()):\n",
    "            _parsed_line = split_line(l, DELIM)\n",
    "            line_ids.append(_parsed_line[0])\n",
    "            character_ids.append(_parsed_line[1])\n",
    "            movie_ids.append(_parsed_line[2])\n",
    "            character_names.append(_parsed_line[3])\n",
    "            utterances.append(_parsed_line[4])\n",
    "    res = pd.DataFrame()\n",
    "    res[\"LINE_ID\"] = line_ids\n",
    "    res[\"CHARACTER_ID\"] = character_ids\n",
    "    res[\"MOVIE_ID\"] = movie_ids\n",
    "    res[\"CHARACTER_NAME\"] = character_names\n",
    "    res[\"UTTERANCE\"] = utterances\n",
    "    return res\n",
    "    "
   ]
  },
  {
   "cell_type": "code",
   "execution_count": 34,
   "metadata": {},
   "outputs": [
    {
     "name": "stderr",
     "output_type": "stream",
     "text": [
      "Widget Javascript not detected.  It may not be installed or enabled properly.\n"
     ]
    },
    {
     "data": {
      "application/vnd.jupyter.widget-view+json": {
       "model_id": "15c04ebc296444b39f93444b63b94c72"
      }
     },
     "metadata": {},
     "output_type": "display_data"
    },
    {
     "name": "stdout",
     "output_type": "stream",
     "text": [
      "\n"
     ]
    }
   ],
   "source": [
    "df_movie_lines = movie_lines_to_dataframe(DATA_DIR + \"/movie_lines.txt\")\n",
    "# Save to disk\n",
    "df_movie_lines.to_csv(\"movie_lines.csv\")\n",
    "df_movie_lines.to_pickle(\"movie_lines.pick\")"
   ]
  },
  {
   "cell_type": "code",
   "execution_count": 35,
   "metadata": {},
   "outputs": [
    {
     "data": {
      "text/plain": [
       "LINE_ID           object\n",
       "CHARACTER_ID      object\n",
       "MOVIE_ID          object\n",
       "CHARACTER_NAME    object\n",
       "UTTERANCE         object\n",
       "dtype: object"
      ]
     },
     "execution_count": 35,
     "metadata": {},
     "output_type": "execute_result"
    }
   ],
   "source": [
    "df_movie_lines.dtypes"
   ]
  },
  {
   "cell_type": "code",
   "execution_count": 36,
   "metadata": {},
   "outputs": [
    {
     "name": "stdout",
     "output_type": "stream",
     "text": [
      "total 53M\r\n",
      "drwxr-xr-x 3 wotan wotan 4,0K abr 14 15:14 .\r\n",
      "drwxr-xr-x 4 wotan wotan 4,0K abr 14 14:55 ..\r\n",
      "-rw-r--r-- 1 wotan wotan 131K abr 14 15:14 Cornell_movies_dialogues_database_preprocessng.ipynb\r\n",
      "drwxr-xr-x 2 wotan wotan 4,0K abr 14 15:00 .ipynb_checkpoints\r\n",
      "-rw-r--r-- 1 wotan wotan  26M abr 14 15:14 movie_lines.csv\r\n",
      "-rw-r--r-- 1 wotan wotan  27M abr 14 15:14 movie_lines.pick\r\n"
     ]
    }
   ],
   "source": [
    "!ls -alh"
   ]
  },
  {
   "cell_type": "markdown",
   "metadata": {},
   "source": [
    "__Translate to Spanish__"
   ]
  },
  {
   "cell_type": "code",
   "execution_count": 37,
   "metadata": {},
   "outputs": [
    {
     "data": {
      "text/plain": [
       "16838300"
      ]
     },
     "execution_count": 37,
     "metadata": {},
     "output_type": "execute_result"
    }
   ],
   "source": [
    "# Count number of characters in utterances\n",
    "def count_chars(texts_list):\n",
    "    count = 0\n",
    "    for l in texts_list:\n",
    "        count += len(l)\n",
    "    return count\n",
    "\n",
    "count_chars(df_movie_lines.UTTERANCE.values)"
   ]
  },
  {
   "cell_type": "code",
   "execution_count": 38,
   "metadata": {
    "collapsed": true
   },
   "outputs": [],
   "source": [
    "# Get the first 2 million chars\n",
    "def get_max_index(texts_list, max_length, start_index=0):\n",
    "    count = 0\n",
    "    index = start_index\n",
    "    for l in texts_list[start_index:]:\n",
    "        count += len(l)\n",
    "        if count >= max_length:\n",
    "            return index\n",
    "        index += 1\n",
    "    return index\n"
   ]
  },
  {
   "cell_type": "code",
   "execution_count": 39,
   "metadata": {},
   "outputs": [
    {
     "data": {
      "text/plain": [
       "1999849"
      ]
     },
     "execution_count": 39,
     "metadata": {},
     "output_type": "execute_result"
    }
   ],
   "source": [
    "# Get first 2 million characters index\n",
    "_start_index = 0\n",
    "index = get_max_index(df_movie_lines.UTTERANCE.values, 2e6, start_index=_start_index)\n",
    "count_chars(df_movie_lines.UTTERANCE.values[_start_index:index])"
   ]
  },
  {
   "cell_type": "code",
   "execution_count": 40,
   "metadata": {},
   "outputs": [
    {
     "name": "stdout",
     "output_type": "stream",
     "text": [
      "Split indices: [36222, 72819, 108282, 144941, 182428, 218582, 254564, 290490, 304712]\n",
      "36222 - 72819 num chars: 1999754\n",
      "72819 - 108282 num chars: 1999989\n",
      "108282 - 144941 num chars: 1999953\n",
      "144941 - 182428 num chars: 1999930\n",
      "182428 - 218582 num chars: 1999990\n",
      "218582 - 254564 num chars: 1999873\n",
      "254564 - 290490 num chars: 1999961\n",
      "290490 - 304712 num chars: 838927\n"
     ]
    }
   ],
   "source": [
    "# Split dataframe into <2 million chars chunks\n",
    "split_indices = []\n",
    "CHARS_PER_CHUNK = 2e6\n",
    "\n",
    "_split_index = 0\n",
    "_chars_len = count_chars(df_movie_lines.UTTERANCE.values[_split_index:])\n",
    "while (_chars_len > CHARS_PER_CHUNK):\n",
    "    _split_index = get_max_index(df_movie_lines.UTTERANCE.values, CHARS_PER_CHUNK, start_index=_split_index)\n",
    "    _chars_len = count_chars(df_movie_lines.UTTERANCE.values[_split_index:])\n",
    "    split_indices.append(_split_index)\n",
    "if (split_indices[-1] < len(df_movie_lines)-1):\n",
    "    split_indices.append(len(df_movie_lines)-1)\n",
    "\n",
    "# Indices to split the dataframe\n",
    "print(\"Split indices: {}\".format(split_indices))\n",
    "\n",
    "for _i, _index in enumerate(split_indices):\n",
    "    if _i > 0:\n",
    "        print(\"{} - {} num chars: {}\".format(split_indices[_i-1], _index, count_chars(df_movie_lines.UTTERANCE.values[split_indices[_i-1]:_index])))\n"
   ]
  },
  {
   "cell_type": "code",
   "execution_count": 42,
   "metadata": {},
   "outputs": [],
   "source": [
    "MOVIE_LINES_CHUNK_PREFIX = \"../preprocessed_data/movie_lines_chunk_{}\"\n",
    "for i, index in enumerate(split_indices):\n",
    "    if i > 0:\n",
    "        _df = df_movie_lines.loc[split_indices[i-1]:index]\n",
    "        _df.to_csv(MOVIE_LINES_CHUNK_PREFIX.format(i) + \".csv\")\n",
    "        _df.to_pickle(MOVIE_LINES_CHUNK_PREFIX.format(i) + \".pick\")\n",
    "        "
   ]
  },
  {
   "cell_type": "code",
   "execution_count": 44,
   "metadata": {},
   "outputs": [
    {
     "name": "stdout",
     "output_type": "stream",
     "text": [
      "total 47M\r\n",
      "drwxr-xr-x 2 wotan wotan 4,0K abr 14 15:56 .\r\n",
      "drwxr-xr-x 5 wotan wotan 4,0K abr 14 15:56 ..\r\n",
      "-rw-r--r-- 1 wotan wotan 3,1M abr 14 15:56 movie_lines_chunk_1.csv\r\n",
      "-rw-r--r-- 1 wotan wotan 3,2M abr 14 15:56 movie_lines_chunk_1.pick\r\n",
      "-rw-r--r-- 1 wotan wotan 3,1M abr 14 15:56 movie_lines_chunk_2.csv\r\n",
      "-rw-r--r-- 1 wotan wotan 3,2M abr 14 15:56 movie_lines_chunk_2.pick\r\n",
      "-rw-r--r-- 1 wotan wotan 3,1M abr 14 15:56 movie_lines_chunk_3.csv\r\n",
      "-rw-r--r-- 1 wotan wotan 3,2M abr 14 15:56 movie_lines_chunk_3.pick\r\n",
      "-rw-r--r-- 1 wotan wotan 3,2M abr 14 15:56 movie_lines_chunk_4.csv\r\n",
      "-rw-r--r-- 1 wotan wotan 3,3M abr 14 15:56 movie_lines_chunk_4.pick\r\n",
      "-rw-r--r-- 1 wotan wotan 3,1M abr 14 15:56 movie_lines_chunk_5.csv\r\n",
      "-rw-r--r-- 1 wotan wotan 3,2M abr 14 15:56 movie_lines_chunk_5.pick\r\n",
      "-rw-r--r-- 1 wotan wotan 3,1M abr 14 15:56 movie_lines_chunk_6.csv\r\n",
      "-rw-r--r-- 1 wotan wotan 3,2M abr 14 15:56 movie_lines_chunk_6.pick\r\n",
      "-rw-r--r-- 1 wotan wotan 3,1M abr 14 15:56 movie_lines_chunk_7.csv\r\n",
      "-rw-r--r-- 1 wotan wotan 3,2M abr 14 15:56 movie_lines_chunk_7.pick\r\n",
      "-rw-r--r-- 1 wotan wotan 1,3M abr 14 15:56 movie_lines_chunk_8.csv\r\n",
      "-rw-r--r-- 1 wotan wotan 1,4M abr 14 15:56 movie_lines_chunk_8.pick\r\n"
     ]
    }
   ],
   "source": [
    "!ls ../preprocessed_data -alh"
   ]
  },
  {
   "cell_type": "code",
   "execution_count": null,
   "metadata": {
    "collapsed": true
   },
   "outputs": [],
   "source": []
  },
  {
   "cell_type": "code",
   "execution_count": null,
   "metadata": {
    "collapsed": true
   },
   "outputs": [],
   "source": []
  },
  {
   "cell_type": "code",
   "execution_count": null,
   "metadata": {
    "collapsed": true
   },
   "outputs": [],
   "source": []
  },
  {
   "cell_type": "code",
   "execution_count": null,
   "metadata": {
    "collapsed": true
   },
   "outputs": [],
   "source": []
  },
  {
   "cell_type": "code",
   "execution_count": null,
   "metadata": {
    "collapsed": true
   },
   "outputs": [],
   "source": []
  },
  {
   "cell_type": "code",
   "execution_count": null,
   "metadata": {
    "collapsed": true
   },
   "outputs": [],
   "source": []
  },
  {
   "cell_type": "code",
   "execution_count": null,
   "metadata": {
    "collapsed": true
   },
   "outputs": [],
   "source": []
  },
  {
   "cell_type": "code",
   "execution_count": null,
   "metadata": {
    "collapsed": true
   },
   "outputs": [],
   "source": []
  },
  {
   "cell_type": "code",
   "execution_count": null,
   "metadata": {
    "collapsed": true
   },
   "outputs": [],
   "source": []
  },
  {
   "cell_type": "code",
   "execution_count": null,
   "metadata": {
    "collapsed": true
   },
   "outputs": [],
   "source": []
  }
 ],
 "metadata": {
  "kernelspec": {
   "display_name": "Python 3",
   "language": "python",
   "name": "python3"
  },
  "language_info": {
   "codemirror_mode": {
    "name": "ipython",
    "version": 3
   },
   "file_extension": ".py",
   "mimetype": "text/x-python",
   "name": "python",
   "nbconvert_exporter": "python",
   "pygments_lexer": "ipython3",
   "version": "3.6.2"
  }
 },
 "nbformat": 4,
 "nbformat_minor": 1
}
